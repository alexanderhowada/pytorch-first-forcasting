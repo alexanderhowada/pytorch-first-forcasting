{
 "cells": [
  {
   "cell_type": "code",
   "execution_count": 1,
   "id": "ranging-beatles",
   "metadata": {},
   "outputs": [],
   "source": [
    "import numpy as np\n",
    "import plotly.graph_objects as go"
   ]
  },
  {
   "cell_type": "code",
   "execution_count": 4,
   "id": "normal-separate",
   "metadata": {},
   "outputs": [],
   "source": [
    "def PlotDf(df, a, b, fig = None, label=None, steps=1, mode='markers+lines'):\n",
    "    to_plot=np.arange(df.index.min(), df.index.max(), steps)\n",
    "    if fig == None:\n",
    "        fig = go.Figure()\n",
    "    fig.add_trace(\n",
    "        go.Scatter(\n",
    "            x = df.loc[to_plot, a], y = df.loc[to_plot, b],\n",
    "            mode=mode,\n",
    "            name=label\n",
    "        )\n",
    "    )\n",
    "    fig.update_xaxes(\n",
    "        showgrid=True,gridwidth=1, gridcolor='LightPink'\n",
    "    )\n",
    "    fig.update_yaxes(\n",
    "        showgrid=True,gridwidth=1, gridcolor='LightPink'\n",
    "    )\n",
    "    return fig"
   ]
  },
  {
   "cell_type": "code",
   "execution_count": 2,
   "id": "placed-delivery",
   "metadata": {},
   "outputs": [],
   "source": [
    "def SplitData(df, train_fraction=0.9):\n",
    "    train_fraction = 0.9\n",
    "    train_size = int(df.index.size*train_fraction)\n",
    "    \n",
    "    train = df[:train_size].copy()\n",
    "    test = df[train_size:].copy()\n",
    "    \n",
    "    return train, test"
   ]
  },
  {
   "cell_type": "code",
   "execution_count": 3,
   "id": "nonprofit-prison",
   "metadata": {},
   "outputs": [],
   "source": [
    "def DelayData(df, n_steps):\n",
    "    return df[n_steps:].values"
   ]
  },
  {
   "cell_type": "code",
   "execution_count": null,
   "id": "frequent-following",
   "metadata": {},
   "outputs": [],
   "source": []
  }
 ],
 "metadata": {
  "kernelspec": {
   "display_name": "Python 3",
   "language": "python",
   "name": "python3"
  },
  "language_info": {
   "codemirror_mode": {
    "name": "ipython",
    "version": 3
   },
   "file_extension": ".py",
   "mimetype": "text/x-python",
   "name": "python",
   "nbconvert_exporter": "python",
   "pygments_lexer": "ipython3",
   "version": "3.8.10"
  }
 },
 "nbformat": 4,
 "nbformat_minor": 5
}
